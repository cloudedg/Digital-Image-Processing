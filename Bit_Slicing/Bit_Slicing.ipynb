{
 "cells": [
  {
   "cell_type": "code",
   "execution_count": 1,
   "metadata": {},
   "outputs": [
    {
     "name": "stdout",
     "output_type": "stream",
     "text": [
      "Saved bit_planes\\bit_plane_0.png\n",
      "Saved bit_planes\\bit_plane_1.png\n",
      "Saved bit_planes\\bit_plane_2.png\n",
      "Saved bit_planes\\bit_plane_3.png\n",
      "Saved bit_planes\\bit_plane_4.png\n",
      "Saved bit_planes\\bit_plane_5.png\n",
      "Saved bit_planes\\bit_plane_6.png\n",
      "Saved bit_planes\\bit_plane_7.png\n",
      "All bit planes saved.\n"
     ]
    }
   ],
   "source": [
    "import cv2\n",
    "import numpy as np\n",
    "import os\n",
    "\n",
    "# Load the image\n",
    "image = cv2.imread('./images/window.jpg', cv2.IMREAD_GRAYSCALE)\n",
    "\n",
    "# Check if the image was loaded properly\n",
    "if image is None:\n",
    "    print(\"Error: Image not loaded.\")\n",
    "    exit()\n",
    "\n",
    "# Directory to save bit plane images\n",
    "output_dir = 'bit_planes'\n",
    "if not os.path.exists(output_dir):\n",
    "    os.makedirs(output_dir)\n",
    "\n",
    "# Extract and save each bit plane\n",
    "for i in range(8):\n",
    "    bit_plane = (image >> i) & 1\n",
    "    bit_plane_image = bit_plane * 255  # Scale to 0-255 for saving\n",
    "    bit_plane_filename = os.path.join(output_dir, f'bit_plane_{i}.png')\n",
    "    cv2.imwrite(bit_plane_filename, bit_plane_image)\n",
    "    print(f'Saved {bit_plane_filename}')\n",
    "\n",
    "print('All bit planes saved.')\n"
   ]
  }
 ],
 "metadata": {
  "kernelspec": {
   "display_name": "Python 3",
   "language": "python",
   "name": "python3"
  },
  "language_info": {
   "codemirror_mode": {
    "name": "ipython",
    "version": 3
   },
   "file_extension": ".py",
   "mimetype": "text/x-python",
   "name": "python",
   "nbconvert_exporter": "python",
   "pygments_lexer": "ipython3",
   "version": "3.12.4"
  }
 },
 "nbformat": 4,
 "nbformat_minor": 2
}
